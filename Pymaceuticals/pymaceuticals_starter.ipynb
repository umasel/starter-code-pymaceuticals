{
  "cells": [
    {
      "cell_type": "markdown",
      "metadata": {
        "id": "BSDSbNPfG9M7"
      },
      "source": [
        "# Pymaceuticals Inc.\n",
        "---\n",
        "\n",
        "### Analysis\n",
        "\n",
        "- The bar graph showed the Drug Regimen Capomulin has the maximum mice number (230), and Zoniferol has the smaller mice number (182).\n",
        "\n",
        "- The total number of mice is 248, after removing the duplicate. \n",
        "\n",
        "- There are 124 female and 125 male mices.\n",
        "\n",
        "- The correlation between mouse weight, and average tumor volume is 0.84. It is a strong positive correlation, when the mouse weight increases the average tumor volume also increases.\n",
        "\n",
        "- The box plot clearly shows that the drug Capomulin and Ramincane has reduced the volume of the tumor.\n",
        "\n",
        "- The regression analysis helped to understand how much the average tumor volume (the dependent variable) will change when weight of mice change(the independent variables). \n",
        "\n",
        "- The R-squared value is 0.70, which means 70% the model fit the data, wich is fairely good to predict the data from the model. Higher R-squared values represent smaller differences between the observed data, and the fitted value. 70% the model explains all of the variation in the response variable around its mean.\n",
        "From the selected treatments Capomulin and Ramicane reduces the size of tumors better.\n",
        " "
      ]
    },
    {
      "cell_type": "code",
      "execution_count": 2,
      "metadata": {
        "colab": {
          "base_uri": "https://localhost:8080/",
          "height": 206
        },
        "id": "GVy0bJo0G9M9",
        "outputId": "626c98ea-c929-4a2a-b393-de8a2ddd9a4a"
      },
      "outputs": [
        {
          "data": {
            "text/html": [
              "<div>\n",
              "<style scoped>\n",
              "    .dataframe tbody tr th:only-of-type {\n",
              "        vertical-align: middle;\n",
              "    }\n",
              "\n",
              "    .dataframe tbody tr th {\n",
              "        vertical-align: top;\n",
              "    }\n",
              "\n",
              "    .dataframe thead th {\n",
              "        text-align: right;\n",
              "    }\n",
              "</style>\n",
              "<table border=\"1\" class=\"dataframe\">\n",
              "  <thead>\n",
              "    <tr style=\"text-align: right;\">\n",
              "      <th></th>\n",
              "      <th>Mouse ID</th>\n",
              "      <th>Drug Regimen</th>\n",
              "      <th>Sex</th>\n",
              "      <th>Age_months</th>\n",
              "      <th>Weight (g)</th>\n",
              "    </tr>\n",
              "  </thead>\n",
              "  <tbody>\n",
              "    <tr>\n",
              "      <th>0</th>\n",
              "      <td>k403</td>\n",
              "      <td>Ramicane</td>\n",
              "      <td>Male</td>\n",
              "      <td>21</td>\n",
              "      <td>16</td>\n",
              "    </tr>\n",
              "    <tr>\n",
              "      <th>1</th>\n",
              "      <td>s185</td>\n",
              "      <td>Capomulin</td>\n",
              "      <td>Female</td>\n",
              "      <td>3</td>\n",
              "      <td>17</td>\n",
              "    </tr>\n",
              "    <tr>\n",
              "      <th>2</th>\n",
              "      <td>x401</td>\n",
              "      <td>Capomulin</td>\n",
              "      <td>Female</td>\n",
              "      <td>16</td>\n",
              "      <td>15</td>\n",
              "    </tr>\n",
              "    <tr>\n",
              "      <th>3</th>\n",
              "      <td>m601</td>\n",
              "      <td>Capomulin</td>\n",
              "      <td>Male</td>\n",
              "      <td>22</td>\n",
              "      <td>17</td>\n",
              "    </tr>\n",
              "    <tr>\n",
              "      <th>4</th>\n",
              "      <td>g791</td>\n",
              "      <td>Ramicane</td>\n",
              "      <td>Male</td>\n",
              "      <td>11</td>\n",
              "      <td>16</td>\n",
              "    </tr>\n",
              "  </tbody>\n",
              "</table>\n",
              "</div>"
            ],
            "text/plain": [
              "  Mouse ID Drug Regimen     Sex  Age_months  Weight (g)\n",
              "0     k403     Ramicane    Male          21          16\n",
              "1     s185    Capomulin  Female           3          17\n",
              "2     x401    Capomulin  Female          16          15\n",
              "3     m601    Capomulin    Male          22          17\n",
              "4     g791     Ramicane    Male          11          16"
            ]
          },
          "execution_count": 2,
          "metadata": {},
          "output_type": "execute_result"
        }
      ],
      "source": [
        "# Dependencies and Setup\n",
        "import matplotlib.pyplot as plt\n",
        "import pandas as pd\n",
        "import scipy.stats as st\n",
        "import numpy as np\n",
        "from scipy.stats import linregress\n",
        "\n",
        "# Study data files\n",
        "mouse_metadata_path = \"Data/Mouse_metadata.csv\"\n",
        "study_results_path = \"DAta/Study_results.csv\"\n",
        "\n",
        "# Read the mouse data\n",
        "mouse_metadata = pd.read_csv(mouse_metadata_path)\n",
        "study_results = pd.read_csv(study_results_path)\n",
        "\n",
        "mouse_metadata.head()\n"
      ]
    },
    {
      "cell_type": "code",
      "execution_count": 3,
      "metadata": {
        "colab": {
          "base_uri": "https://localhost:8080/",
          "height": 206
        },
        "id": "bKgFlpjTVAwS",
        "outputId": "c89c1071-a85e-451e-a1a6-b5c11ae13b47"
      },
      "outputs": [
        {
          "data": {
            "text/html": [
              "<div>\n",
              "<style scoped>\n",
              "    .dataframe tbody tr th:only-of-type {\n",
              "        vertical-align: middle;\n",
              "    }\n",
              "\n",
              "    .dataframe tbody tr th {\n",
              "        vertical-align: top;\n",
              "    }\n",
              "\n",
              "    .dataframe thead th {\n",
              "        text-align: right;\n",
              "    }\n",
              "</style>\n",
              "<table border=\"1\" class=\"dataframe\">\n",
              "  <thead>\n",
              "    <tr style=\"text-align: right;\">\n",
              "      <th></th>\n",
              "      <th>Mouse ID</th>\n",
              "      <th>Timepoint</th>\n",
              "      <th>Tumor Volume (mm3)</th>\n",
              "      <th>Metastatic Sites</th>\n",
              "    </tr>\n",
              "  </thead>\n",
              "  <tbody>\n",
              "    <tr>\n",
              "      <th>0</th>\n",
              "      <td>b128</td>\n",
              "      <td>0</td>\n",
              "      <td>45.0</td>\n",
              "      <td>0</td>\n",
              "    </tr>\n",
              "    <tr>\n",
              "      <th>1</th>\n",
              "      <td>f932</td>\n",
              "      <td>0</td>\n",
              "      <td>45.0</td>\n",
              "      <td>0</td>\n",
              "    </tr>\n",
              "    <tr>\n",
              "      <th>2</th>\n",
              "      <td>g107</td>\n",
              "      <td>0</td>\n",
              "      <td>45.0</td>\n",
              "      <td>0</td>\n",
              "    </tr>\n",
              "    <tr>\n",
              "      <th>3</th>\n",
              "      <td>a457</td>\n",
              "      <td>0</td>\n",
              "      <td>45.0</td>\n",
              "      <td>0</td>\n",
              "    </tr>\n",
              "    <tr>\n",
              "      <th>4</th>\n",
              "      <td>c819</td>\n",
              "      <td>0</td>\n",
              "      <td>45.0</td>\n",
              "      <td>0</td>\n",
              "    </tr>\n",
              "  </tbody>\n",
              "</table>\n",
              "</div>"
            ],
            "text/plain": [
              "  Mouse ID  Timepoint  Tumor Volume (mm3)  Metastatic Sites\n",
              "0     b128          0                45.0                 0\n",
              "1     f932          0                45.0                 0\n",
              "2     g107          0                45.0                 0\n",
              "3     a457          0                45.0                 0\n",
              "4     c819          0                45.0                 0"
            ]
          },
          "execution_count": 3,
          "metadata": {},
          "output_type": "execute_result"
        }
      ],
      "source": [
        "study_results.head()"
      ]
    },
    {
      "cell_type": "code",
      "execution_count": 4,
      "metadata": {
        "colab": {
          "base_uri": "https://localhost:8080/"
        },
        "id": "NYbNjZE9G9M-",
        "outputId": "600ce49b-f77c-4fbf-e76b-54ba051a58fe"
      },
      "outputs": [
        {
          "data": {
            "text/plain": [
              "249"
            ]
          },
          "execution_count": 4,
          "metadata": {},
          "output_type": "execute_result"
        }
      ],
      "source": [
        "combined_df = pd.merge(mouse_metadata, study_results, how='outer', on=\"Mouse ID\")\n",
        "# Display the data table for preview\n",
        "combined_df.head()\n",
        "# Checking the number of mice.\n",
        "num_mice = combined_df[\"Mouse ID\"].nunique()\n",
        "num_mice"
      ]
    },
    {
      "cell_type": "markdown",
      "metadata": {},
      "source": [
        "# Remove Duplicate:\n",
        "*Before beginning the analysis, check the data for any mouse ID with duplicate time points and remove any data associated with that mouse ID."
      ]
    },
    {
      "cell_type": "code",
      "execution_count": 5,
      "metadata": {
        "colab": {
          "base_uri": "https://localhost:8080/"
        },
        "id": "Ja4tzL4oG9M-",
        "outputId": "448f9e79-87b9-49ec-b250-854b92ba59a6"
      },
      "outputs": [
        {
          "data": {
            "text/plain": [
              "array(['g989'], dtype=object)"
            ]
          },
          "execution_count": 5,
          "metadata": {},
          "output_type": "execute_result"
        }
      ],
      "source": [
        "# Our data should be uniquely identified by Mouse ID and Timepoint\n",
        "# Get the duplicate mice by ID number that shows up for Mouse ID and Timepoint.\n",
        "dup_mice_ID = combined_df.loc[combined_df.duplicated(subset=['Mouse ID', 'Timepoint']),'Mouse ID'].unique()\n",
        "dup_mice_ID"
      ]
    },
    {
      "cell_type": "code",
      "execution_count": 6,
      "metadata": {
        "colab": {
          "base_uri": "https://localhost:8080/",
          "height": 457
        },
        "id": "-KgwKPKAG9M-",
        "outputId": "83f03bf2-7abf-4485-86ac-a2664d43fcc7"
      },
      "outputs": [
        {
          "data": {
            "text/html": [
              "<div>\n",
              "<style scoped>\n",
              "    .dataframe tbody tr th:only-of-type {\n",
              "        vertical-align: middle;\n",
              "    }\n",
              "\n",
              "    .dataframe tbody tr th {\n",
              "        vertical-align: top;\n",
              "    }\n",
              "\n",
              "    .dataframe thead th {\n",
              "        text-align: right;\n",
              "    }\n",
              "</style>\n",
              "<table border=\"1\" class=\"dataframe\">\n",
              "  <thead>\n",
              "    <tr style=\"text-align: right;\">\n",
              "      <th></th>\n",
              "      <th>Mouse ID</th>\n",
              "      <th>Drug Regimen</th>\n",
              "      <th>Sex</th>\n",
              "      <th>Age_months</th>\n",
              "      <th>Weight (g)</th>\n",
              "      <th>Timepoint</th>\n",
              "      <th>Tumor Volume (mm3)</th>\n",
              "      <th>Metastatic Sites</th>\n",
              "    </tr>\n",
              "  </thead>\n",
              "  <tbody>\n",
              "    <tr>\n",
              "      <th>908</th>\n",
              "      <td>g989</td>\n",
              "      <td>Propriva</td>\n",
              "      <td>Female</td>\n",
              "      <td>21</td>\n",
              "      <td>26</td>\n",
              "      <td>0</td>\n",
              "      <td>45.000000</td>\n",
              "      <td>0</td>\n",
              "    </tr>\n",
              "    <tr>\n",
              "      <th>909</th>\n",
              "      <td>g989</td>\n",
              "      <td>Propriva</td>\n",
              "      <td>Female</td>\n",
              "      <td>21</td>\n",
              "      <td>26</td>\n",
              "      <td>0</td>\n",
              "      <td>45.000000</td>\n",
              "      <td>0</td>\n",
              "    </tr>\n",
              "    <tr>\n",
              "      <th>910</th>\n",
              "      <td>g989</td>\n",
              "      <td>Propriva</td>\n",
              "      <td>Female</td>\n",
              "      <td>21</td>\n",
              "      <td>26</td>\n",
              "      <td>5</td>\n",
              "      <td>48.786801</td>\n",
              "      <td>0</td>\n",
              "    </tr>\n",
              "    <tr>\n",
              "      <th>911</th>\n",
              "      <td>g989</td>\n",
              "      <td>Propriva</td>\n",
              "      <td>Female</td>\n",
              "      <td>21</td>\n",
              "      <td>26</td>\n",
              "      <td>5</td>\n",
              "      <td>47.570392</td>\n",
              "      <td>0</td>\n",
              "    </tr>\n",
              "    <tr>\n",
              "      <th>912</th>\n",
              "      <td>g989</td>\n",
              "      <td>Propriva</td>\n",
              "      <td>Female</td>\n",
              "      <td>21</td>\n",
              "      <td>26</td>\n",
              "      <td>10</td>\n",
              "      <td>51.745156</td>\n",
              "      <td>0</td>\n",
              "    </tr>\n",
              "    <tr>\n",
              "      <th>913</th>\n",
              "      <td>g989</td>\n",
              "      <td>Propriva</td>\n",
              "      <td>Female</td>\n",
              "      <td>21</td>\n",
              "      <td>26</td>\n",
              "      <td>10</td>\n",
              "      <td>49.880528</td>\n",
              "      <td>0</td>\n",
              "    </tr>\n",
              "    <tr>\n",
              "      <th>914</th>\n",
              "      <td>g989</td>\n",
              "      <td>Propriva</td>\n",
              "      <td>Female</td>\n",
              "      <td>21</td>\n",
              "      <td>26</td>\n",
              "      <td>15</td>\n",
              "      <td>51.325852</td>\n",
              "      <td>1</td>\n",
              "    </tr>\n",
              "    <tr>\n",
              "      <th>915</th>\n",
              "      <td>g989</td>\n",
              "      <td>Propriva</td>\n",
              "      <td>Female</td>\n",
              "      <td>21</td>\n",
              "      <td>26</td>\n",
              "      <td>15</td>\n",
              "      <td>53.442020</td>\n",
              "      <td>0</td>\n",
              "    </tr>\n",
              "    <tr>\n",
              "      <th>916</th>\n",
              "      <td>g989</td>\n",
              "      <td>Propriva</td>\n",
              "      <td>Female</td>\n",
              "      <td>21</td>\n",
              "      <td>26</td>\n",
              "      <td>20</td>\n",
              "      <td>55.326122</td>\n",
              "      <td>1</td>\n",
              "    </tr>\n",
              "    <tr>\n",
              "      <th>917</th>\n",
              "      <td>g989</td>\n",
              "      <td>Propriva</td>\n",
              "      <td>Female</td>\n",
              "      <td>21</td>\n",
              "      <td>26</td>\n",
              "      <td>20</td>\n",
              "      <td>54.657650</td>\n",
              "      <td>1</td>\n",
              "    </tr>\n",
              "    <tr>\n",
              "      <th>918</th>\n",
              "      <td>g989</td>\n",
              "      <td>Propriva</td>\n",
              "      <td>Female</td>\n",
              "      <td>21</td>\n",
              "      <td>26</td>\n",
              "      <td>25</td>\n",
              "      <td>56.045564</td>\n",
              "      <td>1</td>\n",
              "    </tr>\n",
              "    <tr>\n",
              "      <th>919</th>\n",
              "      <td>g989</td>\n",
              "      <td>Propriva</td>\n",
              "      <td>Female</td>\n",
              "      <td>21</td>\n",
              "      <td>26</td>\n",
              "      <td>30</td>\n",
              "      <td>59.082294</td>\n",
              "      <td>1</td>\n",
              "    </tr>\n",
              "    <tr>\n",
              "      <th>920</th>\n",
              "      <td>g989</td>\n",
              "      <td>Propriva</td>\n",
              "      <td>Female</td>\n",
              "      <td>21</td>\n",
              "      <td>26</td>\n",
              "      <td>35</td>\n",
              "      <td>62.570880</td>\n",
              "      <td>2</td>\n",
              "    </tr>\n",
              "  </tbody>\n",
              "</table>\n",
              "</div>"
            ],
            "text/plain": [
              "    Mouse ID Drug Regimen     Sex  Age_months  Weight (g)  Timepoint  \\\n",
              "908     g989     Propriva  Female          21          26          0   \n",
              "909     g989     Propriva  Female          21          26          0   \n",
              "910     g989     Propriva  Female          21          26          5   \n",
              "911     g989     Propriva  Female          21          26          5   \n",
              "912     g989     Propriva  Female          21          26         10   \n",
              "913     g989     Propriva  Female          21          26         10   \n",
              "914     g989     Propriva  Female          21          26         15   \n",
              "915     g989     Propriva  Female          21          26         15   \n",
              "916     g989     Propriva  Female          21          26         20   \n",
              "917     g989     Propriva  Female          21          26         20   \n",
              "918     g989     Propriva  Female          21          26         25   \n",
              "919     g989     Propriva  Female          21          26         30   \n",
              "920     g989     Propriva  Female          21          26         35   \n",
              "\n",
              "     Tumor Volume (mm3)  Metastatic Sites  \n",
              "908           45.000000                 0  \n",
              "909           45.000000                 0  \n",
              "910           48.786801                 0  \n",
              "911           47.570392                 0  \n",
              "912           51.745156                 0  \n",
              "913           49.880528                 0  \n",
              "914           51.325852                 1  \n",
              "915           53.442020                 0  \n",
              "916           55.326122                 1  \n",
              "917           54.657650                 1  \n",
              "918           56.045564                 1  \n",
              "919           59.082294                 1  \n",
              "920           62.570880                 2  "
            ]
          },
          "execution_count": 6,
          "metadata": {},
          "output_type": "execute_result"
        }
      ],
      "source": [
        "# Optional: Get all the data for the duplicate mouse ID.\n",
        "dup_mice_df = combined_df.loc[combined_df[\"Mouse ID\"] == \"g989\", :]\n",
        "dup_mice_df"
      ]
    },
    {
      "cell_type": "code",
      "execution_count": 7,
      "metadata": {
        "colab": {
          "base_uri": "https://localhost:8080/",
          "height": 206
        },
        "id": "2MmT45JXG9M-",
        "outputId": "945e8e7d-b092-466a-fe9f-36e7ad26fcb6"
      },
      "outputs": [
        {
          "data": {
            "text/html": [
              "<div>\n",
              "<style scoped>\n",
              "    .dataframe tbody tr th:only-of-type {\n",
              "        vertical-align: middle;\n",
              "    }\n",
              "\n",
              "    .dataframe tbody tr th {\n",
              "        vertical-align: top;\n",
              "    }\n",
              "\n",
              "    .dataframe thead th {\n",
              "        text-align: right;\n",
              "    }\n",
              "</style>\n",
              "<table border=\"1\" class=\"dataframe\">\n",
              "  <thead>\n",
              "    <tr style=\"text-align: right;\">\n",
              "      <th></th>\n",
              "      <th>Mouse ID</th>\n",
              "      <th>Drug Regimen</th>\n",
              "      <th>Sex</th>\n",
              "      <th>Age_months</th>\n",
              "      <th>Weight (g)</th>\n",
              "      <th>Timepoint</th>\n",
              "      <th>Tumor Volume (mm3)</th>\n",
              "      <th>Metastatic Sites</th>\n",
              "    </tr>\n",
              "  </thead>\n",
              "  <tbody>\n",
              "    <tr>\n",
              "      <th>0</th>\n",
              "      <td>k403</td>\n",
              "      <td>Ramicane</td>\n",
              "      <td>Male</td>\n",
              "      <td>21</td>\n",
              "      <td>16</td>\n",
              "      <td>0</td>\n",
              "      <td>45.000000</td>\n",
              "      <td>0</td>\n",
              "    </tr>\n",
              "    <tr>\n",
              "      <th>1</th>\n",
              "      <td>k403</td>\n",
              "      <td>Ramicane</td>\n",
              "      <td>Male</td>\n",
              "      <td>21</td>\n",
              "      <td>16</td>\n",
              "      <td>5</td>\n",
              "      <td>38.825898</td>\n",
              "      <td>0</td>\n",
              "    </tr>\n",
              "    <tr>\n",
              "      <th>2</th>\n",
              "      <td>k403</td>\n",
              "      <td>Ramicane</td>\n",
              "      <td>Male</td>\n",
              "      <td>21</td>\n",
              "      <td>16</td>\n",
              "      <td>10</td>\n",
              "      <td>35.014271</td>\n",
              "      <td>1</td>\n",
              "    </tr>\n",
              "    <tr>\n",
              "      <th>3</th>\n",
              "      <td>k403</td>\n",
              "      <td>Ramicane</td>\n",
              "      <td>Male</td>\n",
              "      <td>21</td>\n",
              "      <td>16</td>\n",
              "      <td>15</td>\n",
              "      <td>34.223992</td>\n",
              "      <td>1</td>\n",
              "    </tr>\n",
              "    <tr>\n",
              "      <th>4</th>\n",
              "      <td>k403</td>\n",
              "      <td>Ramicane</td>\n",
              "      <td>Male</td>\n",
              "      <td>21</td>\n",
              "      <td>16</td>\n",
              "      <td>20</td>\n",
              "      <td>32.997729</td>\n",
              "      <td>1</td>\n",
              "    </tr>\n",
              "  </tbody>\n",
              "</table>\n",
              "</div>"
            ],
            "text/plain": [
              "  Mouse ID Drug Regimen   Sex  Age_months  Weight (g)  Timepoint  \\\n",
              "0     k403     Ramicane  Male          21          16          0   \n",
              "1     k403     Ramicane  Male          21          16          5   \n",
              "2     k403     Ramicane  Male          21          16         10   \n",
              "3     k403     Ramicane  Male          21          16         15   \n",
              "4     k403     Ramicane  Male          21          16         20   \n",
              "\n",
              "   Tumor Volume (mm3)  Metastatic Sites  \n",
              "0           45.000000                 0  \n",
              "1           38.825898                 0  \n",
              "2           35.014271                 1  \n",
              "3           34.223992                 1  \n",
              "4           32.997729                 1  "
            ]
          },
          "execution_count": 7,
          "metadata": {},
          "output_type": "execute_result"
        }
      ],
      "source": [
        "# Create a clean DataFrame by dropping the duplicate mouse by its ID.\n",
        "clean_df = combined_df[combined_df['Mouse ID'].isin(dup_mice_ID)==False]\n",
        "clean_df.head()"
      ]
    },
    {
      "cell_type": "code",
      "execution_count": 8,
      "metadata": {
        "colab": {
          "base_uri": "https://localhost:8080/"
        },
        "id": "yyPkMGoJG9M-",
        "outputId": "56c0978f-d6d8-4d04-ba15-57db9b0ce41d"
      },
      "outputs": [
        {
          "data": {
            "text/plain": [
              "248"
            ]
          },
          "execution_count": 8,
          "metadata": {},
          "output_type": "execute_result"
        }
      ],
      "source": [
        "# Checking the number of mice in the clean DataFrame.\n",
        "clean_mice = clean_df[\"Mouse ID\"].nunique()\n",
        "\n",
        "clean_mice"
      ]
    },
    {
      "cell_type": "markdown",
      "metadata": {
        "id": "Zq_YX2RXG9M-"
      },
      "source": [
        "## Summary Statistics"
      ]
    },
    {
      "cell_type": "code",
      "execution_count": 9,
      "metadata": {
        "colab": {
          "base_uri": "https://localhost:8080/",
          "height": 426
        },
        "id": "73wW5aZ6G9M_",
        "outputId": "9e6aad8b-c94f-4aa5-dee8-a6d4eeeb2e1c"
      },
      "outputs": [
        {
          "data": {
            "text/html": [
              "<div>\n",
              "<style scoped>\n",
              "    .dataframe tbody tr th:only-of-type {\n",
              "        vertical-align: middle;\n",
              "    }\n",
              "\n",
              "    .dataframe tbody tr th {\n",
              "        vertical-align: top;\n",
              "    }\n",
              "\n",
              "    .dataframe thead tr th {\n",
              "        text-align: left;\n",
              "    }\n",
              "\n",
              "    .dataframe thead tr:last-of-type th {\n",
              "        text-align: right;\n",
              "    }\n",
              "</style>\n",
              "<table border=\"1\" class=\"dataframe\">\n",
              "  <thead>\n",
              "    <tr>\n",
              "      <th></th>\n",
              "      <th colspan=\"5\" halign=\"left\">Tumor Volume (mm3)</th>\n",
              "    </tr>\n",
              "    <tr>\n",
              "      <th></th>\n",
              "      <th>mean</th>\n",
              "      <th>median</th>\n",
              "      <th>var</th>\n",
              "      <th>std</th>\n",
              "      <th>sem</th>\n",
              "    </tr>\n",
              "    <tr>\n",
              "      <th>Drug Regimen</th>\n",
              "      <th></th>\n",
              "      <th></th>\n",
              "      <th></th>\n",
              "      <th></th>\n",
              "      <th></th>\n",
              "    </tr>\n",
              "  </thead>\n",
              "  <tbody>\n",
              "    <tr>\n",
              "      <th>Capomulin</th>\n",
              "      <td>40.675741</td>\n",
              "      <td>41.557809</td>\n",
              "      <td>24.947764</td>\n",
              "      <td>4.994774</td>\n",
              "      <td>0.329346</td>\n",
              "    </tr>\n",
              "    <tr>\n",
              "      <th>Ceftamin</th>\n",
              "      <td>52.591172</td>\n",
              "      <td>51.776157</td>\n",
              "      <td>39.290177</td>\n",
              "      <td>6.268188</td>\n",
              "      <td>0.469821</td>\n",
              "    </tr>\n",
              "    <tr>\n",
              "      <th>Infubinol</th>\n",
              "      <td>52.884795</td>\n",
              "      <td>51.820584</td>\n",
              "      <td>43.128684</td>\n",
              "      <td>6.567243</td>\n",
              "      <td>0.492236</td>\n",
              "    </tr>\n",
              "    <tr>\n",
              "      <th>Ketapril</th>\n",
              "      <td>55.235638</td>\n",
              "      <td>53.698743</td>\n",
              "      <td>68.553577</td>\n",
              "      <td>8.279709</td>\n",
              "      <td>0.603860</td>\n",
              "    </tr>\n",
              "    <tr>\n",
              "      <th>Naftisol</th>\n",
              "      <td>54.331565</td>\n",
              "      <td>52.509285</td>\n",
              "      <td>66.173479</td>\n",
              "      <td>8.134708</td>\n",
              "      <td>0.596466</td>\n",
              "    </tr>\n",
              "    <tr>\n",
              "      <th>Placebo</th>\n",
              "      <td>54.033581</td>\n",
              "      <td>52.288934</td>\n",
              "      <td>61.168083</td>\n",
              "      <td>7.821003</td>\n",
              "      <td>0.581331</td>\n",
              "    </tr>\n",
              "    <tr>\n",
              "      <th>Propriva</th>\n",
              "      <td>52.320930</td>\n",
              "      <td>50.446266</td>\n",
              "      <td>43.852013</td>\n",
              "      <td>6.622085</td>\n",
              "      <td>0.544332</td>\n",
              "    </tr>\n",
              "    <tr>\n",
              "      <th>Ramicane</th>\n",
              "      <td>40.216745</td>\n",
              "      <td>40.673236</td>\n",
              "      <td>23.486704</td>\n",
              "      <td>4.846308</td>\n",
              "      <td>0.320955</td>\n",
              "    </tr>\n",
              "    <tr>\n",
              "      <th>Stelasyn</th>\n",
              "      <td>54.233149</td>\n",
              "      <td>52.431737</td>\n",
              "      <td>59.450562</td>\n",
              "      <td>7.710419</td>\n",
              "      <td>0.573111</td>\n",
              "    </tr>\n",
              "    <tr>\n",
              "      <th>Zoniferol</th>\n",
              "      <td>53.236507</td>\n",
              "      <td>51.818479</td>\n",
              "      <td>48.533355</td>\n",
              "      <td>6.966589</td>\n",
              "      <td>0.516398</td>\n",
              "    </tr>\n",
              "  </tbody>\n",
              "</table>\n",
              "</div>"
            ],
            "text/plain": [
              "             Tumor Volume (mm3)                                          \n",
              "                           mean     median        var       std       sem\n",
              "Drug Regimen                                                             \n",
              "Capomulin             40.675741  41.557809  24.947764  4.994774  0.329346\n",
              "Ceftamin              52.591172  51.776157  39.290177  6.268188  0.469821\n",
              "Infubinol             52.884795  51.820584  43.128684  6.567243  0.492236\n",
              "Ketapril              55.235638  53.698743  68.553577  8.279709  0.603860\n",
              "Naftisol              54.331565  52.509285  66.173479  8.134708  0.596466\n",
              "Placebo               54.033581  52.288934  61.168083  7.821003  0.581331\n",
              "Propriva              52.320930  50.446266  43.852013  6.622085  0.544332\n",
              "Ramicane              40.216745  40.673236  23.486704  4.846308  0.320955\n",
              "Stelasyn              54.233149  52.431737  59.450562  7.710419  0.573111\n",
              "Zoniferol             53.236507  51.818479  48.533355  6.966589  0.516398"
            ]
          },
          "execution_count": 9,
          "metadata": {},
          "output_type": "execute_result"
        }
      ],
      "source": [
        "# Generate a summary statistics table of mean, median, variance, standard deviation, and SEM of the tumor volume for each regimen\n",
        "\n",
        "# Use groupby and summary statistical methods to calculate the following properties of each drug regimen:\n",
        "# mean, median, variance, standard deviation, and SEM of the tumor volume.\n",
        "# Assemble the resulting series into a single summary DataFrame.\n",
        "mean = clean_df['Tumor Volume (mm3)'].groupby(clean_df['Drug Regimen']).mean()\n",
        "median = clean_df['Tumor Volume (mm3)'].groupby(clean_df['Drug Regimen']).median()\n",
        "var = clean_df['Tumor Volume (mm3)'].groupby(clean_df['Drug Regimen']).var()\n",
        "std = clean_df['Tumor Volume (mm3)'].groupby(clean_df['Drug Regimen']).std()\n",
        "sem = clean_df['Tumor Volume (mm3)'].groupby(clean_df['Drug Regimen']).sem()\n",
        "\n",
        "summary_stat = pd.DataFrame({\"Mean Tumor Volume\":mean,\n",
        "                            \"Median Tumor Volume\":median,\n",
        "                           \"Tumor Volume Variance\":var,\n",
        "                           \"Tumor Volume Std. Dev.\":std,\n",
        "                           \"Tumor Volume Std. Err.\":sem})\n",
        "# Display the Summary statistics table grouped by 'Drug Regimen' column\n",
        "summary_stat\n",
        "summary_agg =  clean_df.groupby(['Drug Regimen'])[['Tumor Volume (mm3)']].agg(['mean', 'median', 'var', 'std', 'sem'])\n",
        "summary_agg"
      ]
    },
    {
      "cell_type": "markdown",
      "metadata": {
        "id": "PlHGNsxQG9M_"
      },
      "source": [
        "## Bar and Pie Charts"
      ]
    },
    {
      "cell_type": "code",
      "execution_count": 10,
      "metadata": {
        "colab": {
          "base_uri": "https://localhost:8080/"
        },
        "id": "oFm6FYi-G9M_",
        "outputId": "adddf5dc-a57c-4a02-fb40-f9f95dfbd31e"
      },
      "outputs": [
        {
          "data": {
            "text/plain": [
              "Drug Regimen\n",
              "Capomulin    230\n",
              "Ramicane     228\n",
              "Ketapril     188\n",
              "Naftisol     186\n",
              "Zoniferol    182\n",
              "Placebo      181\n",
              "Stelasyn     181\n",
              "Infubinol    178\n",
              "Ceftamin     178\n",
              "Propriva     148\n",
              "Name: count, dtype: int64"
            ]
          },
          "execution_count": 10,
          "metadata": {},
          "output_type": "execute_result"
        }
      ],
      "source": [
        "# Generate a bar plot showing the total number of rows (Mouse ID/Timepoints) for each drug regimen using Pandas.\n",
        "mice_count = clean_df[\"Drug Regimen\"].value_counts()\n",
        "mice_count\n"
      ]
    },
    {
      "cell_type": "code",
      "execution_count": 11,
      "metadata": {
        "colab": {
          "base_uri": "https://localhost:8080/",
          "height": 549
        },
        "id": "1wL9WDKlVUl6",
        "outputId": "a36ec61e-ba98-46a7-f601-f4ff9136355a"
      },
      "outputs": [
        {
          "data": {
            "text/plain": [
              "Text(0.5, 1.0, 'Number of Mice per Treatment')"
            ]
          },
          "execution_count": 11,
          "metadata": {},
          "output_type": "execute_result"
        },
        {
          "data": {
            "image/png": "[encoded data removed]",
            "text/plain": [
              "<Figure size 640x480 with 1 Axes>"
            ]
          },
          "metadata": {},
          "output_type": "display_data"
        }
      ],
      "source": [
        "plot_pandas = mice_count.plot.bar(color='b')\n",
        "# Set the xlabel, ylabel, and title using class methods\n",
        "plt.xlabel(\"Drug Regimen\")\n",
        "plt.ylabel(\"Number of Mice\")\n",
        "plt.title(\"Number of Mice per Treatment\")"
      ]
    },
    {
      "cell_type": "code",
      "execution_count": null,
      "metadata": {
        "id": "S3RZYb5iVTvC"
      },
      "outputs": [],
      "source": []
    },
    {
      "cell_type": "code",
      "execution_count": 12,
      "metadata": {
        "colab": {
          "base_uri": "https://localhost:8080/",
          "height": 532
        },
        "id": "moVCT_5fG9M_",
        "outputId": "910a4873-0dcd-49fb-99c2-dff457530ad7"
      },
      "outputs": [
        {
          "data": {
            "image/png": "[encoded data removed]",
            "text/plain": [
              "<Figure size 640x480 with 1 Axes>"
            ]
          },
          "metadata": {},
          "output_type": "display_data"
        }
      ],
      "source": [
        "x_axis = mice_count.index.values\n",
        "y_axis = mice_count.values\n",
        "\n",
        "# Create a Pyplot bar plot based off of the group series from before and label the title\n",
        "plt.bar(x_axis, y_axis, color='b', alpha=0.8, align='center')\n",
        "\n",
        "# Set the xlabel and ylabel, title using class methods\n",
        "plt.title(\"Number of Mice Tested per Treatment\")\n",
        "plt.xlabel(\"Drug Regimen\")\n",
        "plt.ylabel(\"Number of Mice\")\n",
        "plt.xticks(rotation=\"vertical\")\n",
        "\n",
        "plt.show()\n",
        "#Generate a bar plot showing the total number of rows (Mouse ID/Timepoints) for each drug regimen using pyplot.\n"
      ]
    },
    {
      "cell_type": "code",
      "execution_count": 13,
      "metadata": {
        "colab": {
          "base_uri": "https://localhost:8080/",
          "height": 428
        },
        "id": "qUS8JrSCG9NA",
        "outputId": "35e7f04d-2ffc-461c-efc4-868411e8c981"
      },
      "outputs": [
        {
          "data": {
            "image/png": "[encoded data removed]",
            "text/plain": [
              "<Figure size 640x480 with 1 Axes>"
            ]
          },
          "metadata": {},
          "output_type": "display_data"
        }
      ],
      "source": [
        "# Generate a pie plot showing the distribution of female versus male mice using Pandas\n",
        "gender_data = clean_df[\"Sex\"].value_counts()\n",
        "plt.title(\"Female vs. Male Mice\")\n",
        "gender_data.plot.pie(autopct= \"%1.1f%%\")\n",
        "plt.show()"
      ]
    },
    {
      "cell_type": "code",
      "execution_count": 14,
      "metadata": {
        "colab": {
          "base_uri": "https://localhost:8080/",
          "height": 428
        },
        "id": "g4LTiAlSG9NA",
        "outputId": "1c0d79ff-4a57-4376-8394-734d871a1fe5"
      },
      "outputs": [
        {
          "data": {
            "image/png": "[encoded data removed]",
            "text/plain": [
              "<Figure size 640x480 with 1 Axes>"
            ]
          },
          "metadata": {},
          "output_type": "display_data"
        }
      ],
      "source": [
        "# Generate a pie plot showing the distribution of female versus male mice using pyplot\n",
        "labels = ['Female', 'Male']\n",
        "sizes = [49.7999197, 50.200803]\n",
        "plot = gender_data.plot.pie(y='Total Count', autopct=\"%1.1f%%\")\n",
        "plt.title('Male vs Female Mouse Population')\n",
        "plt.ylabel('Sex')\n",
        "plt.show()"
      ]
    },
    {
      "cell_type": "markdown",
      "metadata": {
        "id": "NYO9YtEqG9NA"
      },
      "source": [
        "## Quartiles, Outliers and Boxplots"
      ]
    },
    {
      "cell_type": "code",
      "execution_count": 15,
      "metadata": {
        "colab": {
          "base_uri": "https://localhost:8080/",
          "height": 311
        },
        "id": "4IbsopgPG9NA",
        "outputId": "6addbd07-d21c-4430-df10-ea4d91789aae"
      },
      "outputs": [
        {
          "name": "stdout",
          "output_type": "stream",
          "text": [
            "The lower quartile of Capomulin tumors: 32.37735684\n",
            "The upper quartile of Capomulin tumors: 40.1592203\n",
            "The interquartile range of Capomulin tumors: 7.781863460000004\n",
            "The median of Capomulin tumors: 38.1251644 \n",
            "Values below 20.70456164999999 could be outliers.\n",
            "Values above 51.83201549 could be outliers.\n"
          ]
        },
        {
          "data": {
            "text/html": [
              "<div>\n",
              "<style scoped>\n",
              "    .dataframe tbody tr th:only-of-type {\n",
              "        vertical-align: middle;\n",
              "    }\n",
              "\n",
              "    .dataframe tbody tr th {\n",
              "        vertical-align: top;\n",
              "    }\n",
              "\n",
              "    .dataframe thead th {\n",
              "        text-align: right;\n",
              "    }\n",
              "</style>\n",
              "<table border=\"1\" class=\"dataframe\">\n",
              "  <thead>\n",
              "    <tr style=\"text-align: right;\">\n",
              "      <th></th>\n",
              "      <th>Mouse ID</th>\n",
              "      <th>Drug Regimen</th>\n",
              "      <th>Sex</th>\n",
              "      <th>Age_months</th>\n",
              "      <th>Weight (g)</th>\n",
              "      <th>Timepoint</th>\n",
              "      <th>Tumor Volume (mm3)</th>\n",
              "      <th>Metastatic Sites</th>\n",
              "    </tr>\n",
              "  </thead>\n",
              "  <tbody>\n",
              "    <tr>\n",
              "      <th>0</th>\n",
              "      <td>k403</td>\n",
              "      <td>Ramicane</td>\n",
              "      <td>Male</td>\n",
              "      <td>21</td>\n",
              "      <td>16</td>\n",
              "      <td>0</td>\n",
              "      <td>45.000000</td>\n",
              "      <td>0</td>\n",
              "    </tr>\n",
              "    <tr>\n",
              "      <th>1</th>\n",
              "      <td>k403</td>\n",
              "      <td>Ramicane</td>\n",
              "      <td>Male</td>\n",
              "      <td>21</td>\n",
              "      <td>16</td>\n",
              "      <td>5</td>\n",
              "      <td>38.825898</td>\n",
              "      <td>0</td>\n",
              "    </tr>\n",
              "    <tr>\n",
              "      <th>2</th>\n",
              "      <td>k403</td>\n",
              "      <td>Ramicane</td>\n",
              "      <td>Male</td>\n",
              "      <td>21</td>\n",
              "      <td>16</td>\n",
              "      <td>10</td>\n",
              "      <td>35.014271</td>\n",
              "      <td>1</td>\n",
              "    </tr>\n",
              "    <tr>\n",
              "      <th>3</th>\n",
              "      <td>k403</td>\n",
              "      <td>Ramicane</td>\n",
              "      <td>Male</td>\n",
              "      <td>21</td>\n",
              "      <td>16</td>\n",
              "      <td>15</td>\n",
              "      <td>34.223992</td>\n",
              "      <td>1</td>\n",
              "    </tr>\n",
              "    <tr>\n",
              "      <th>4</th>\n",
              "      <td>k403</td>\n",
              "      <td>Ramicane</td>\n",
              "      <td>Male</td>\n",
              "      <td>21</td>\n",
              "      <td>16</td>\n",
              "      <td>20</td>\n",
              "      <td>32.997729</td>\n",
              "      <td>1</td>\n",
              "    </tr>\n",
              "  </tbody>\n",
              "</table>\n",
              "</div>"
            ],
            "text/plain": [
              "  Mouse ID Drug Regimen   Sex  Age_months  Weight (g)  Timepoint  \\\n",
              "0     k403     Ramicane  Male          21          16          0   \n",
              "1     k403     Ramicane  Male          21          16          5   \n",
              "2     k403     Ramicane  Male          21          16         10   \n",
              "3     k403     Ramicane  Male          21          16         15   \n",
              "4     k403     Ramicane  Male          21          16         20   \n",
              "\n",
              "   Tumor Volume (mm3)  Metastatic Sites  \n",
              "0           45.000000                 0  \n",
              "1           38.825898                 0  \n",
              "2           35.014271                 1  \n",
              "3           34.223992                 1  \n",
              "4           32.997729                 1  "
            ]
          },
          "execution_count": 15,
          "metadata": {},
          "output_type": "execute_result"
        }
      ],
      "source": [
        "# Calculate the final tumor volume of each mouse across four of the treatment regimens:\n",
        "# Capomulin, Ramicane, Infubinol, and Ceftamin\n",
        "Capomulin_df = clean_df.loc[clean_df[\"Drug Regimen\"] == \"Capomulin\",:]\n",
        "Ramicane_df = clean_df.loc[clean_df[\"Drug Regimen\"] == \"Ramicane\", :]\n",
        "Infubinol_df = clean_df.loc[clean_df[\"Drug Regimen\"] == \"Infubinol\", :]\n",
        "Ceftamin_df = clean_df.loc[clean_df[\"Drug Regimen\"] == \"Ceftamin\", :]\n",
        "# Start by getting the last (greatest) timepoint for each mouse\n",
        "Capomulin_last = Capomulin_df.groupby('Mouse ID').max()['Timepoint']\n",
        "Capomulin_vol = pd.DataFrame(Capomulin_last)\n",
        "Capomulin_merge = pd.merge(Capomulin_vol, clean_df, on=(\"Mouse ID\",\"Timepoint\"),how=\"left\")\n",
        "Capomulin_merge.head()\n",
        "Capomulin_tumors = Capomulin_merge[\"Tumor Volume (mm3)\"]\n",
        "\n",
        "quartiles =Capomulin_tumors.quantile([.25,.5,.75])\n",
        "lowerq = quartiles[0.25]\n",
        "upperq = quartiles[0.75]\n",
        "iqr = upperq-lowerq\n",
        "\n",
        "\n",
        "print(f\"The lower quartile of Capomulin tumors: {lowerq}\")\n",
        "print(f\"The upper quartile of Capomulin tumors: {upperq}\")\n",
        "print(f\"The interquartile range of Capomulin tumors: {iqr}\")\n",
        "print(f\"The median of Capomulin tumors: {quartiles[0.5]} \")\n",
        "\n",
        "lower_bound = lowerq - (1.5*iqr)\n",
        "upper_bound = upperq + (1.5*iqr)\n",
        "\n",
        "print(f\"Values below {lower_bound} could be outliers.\")\n",
        "print(f\"Values above {upper_bound} could be outliers.\")\n",
        "\n",
        "# Merge this group df with the original DataFrame to get the tumor volume at the last timepoint\n",
        "drug_list = [\"Capomulin\", \"Ramicane\", \"Infubinol\", \"Ceftamin\"]\n",
        "drugs = combined_df[combined_df[\"Drug Regimen\"].isin(drug_list)]\n",
        "drugs.head()"
      ]
    },
    {
      "cell_type": "code",
      "execution_count": 16,
      "metadata": {
        "colab": {
          "base_uri": "https://localhost:8080/",
          "height": 710
        },
        "id": "UDTFywj5G9NA",
        "outputId": "f10737d9-2080-44d5-8a1b-fad35568b3a3"
      },
      "outputs": [
        {
          "name": "stdout",
          "output_type": "stream",
          "text": [
            "Capomulin\n",
            "Ramicane\n",
            "Infubinol\n",
            "Ceftamin\n",
            "------------------------------------------------------------\n",
            "The lower quartile of Capomulin treatments is: 32.38\n",
            "The upper quartile of Capomulin treatments is: 40.16\n",
            "The interquartile range of Capomulin treatments is: 7.78\n",
            "Values below 20.71 could be Capomulin outliers.\n",
            "Values above 51.83 could be Capomulin outliers.\n",
            "------------------------------------------------------------\n",
            "The lower quartile of Ramicane treatments is: 31.56\n",
            "The upper quartile of Ramicane treatments is: 40.66\n",
            "The interquartile range of Ramicane treatments is: 9.1\n",
            "Values below 17.91 could be Ramicane outliers.\n",
            "Values above 54.31 could be Ramicane outliers.\n",
            "------------------------------------------------------------\n",
            "The lower quartile of Infubinol treatments is: 54.05\n",
            "The upper quartile of Infubinol treatments is: 65.53\n",
            "The interquartile range of Infubinol treatments is: 11.48\n",
            "Values below 36.83 could be Infubinol outliers.\n",
            "Values above 82.75 could be Infubinol outliers.\n",
            "------------------------------------------------------------\n",
            "The lower quartile of Ceftamin treatments is: 48.72\n",
            "The upper quartile of Ceftamin treatments is: 64.3\n",
            "The interquartile range of Ceftamin treatments is: 15.58\n",
            "Values below 25.35 could be Ceftamin outliers.\n",
            "Values above 87.67 could be Ceftamin outliers.\n",
            "------------------------------------------------------------\n"
          ]
        },
        {
          "data": {
            "text/html": [
              "<div>\n",
              "<style scoped>\n",
              "    .dataframe tbody tr th:only-of-type {\n",
              "        vertical-align: middle;\n",
              "    }\n",
              "\n",
              "    .dataframe tbody tr th {\n",
              "        vertical-align: top;\n",
              "    }\n",
              "\n",
              "    .dataframe thead th {\n",
              "        text-align: right;\n",
              "    }\n",
              "</style>\n",
              "<table border=\"1\" class=\"dataframe\">\n",
              "  <thead>\n",
              "    <tr style=\"text-align: right;\">\n",
              "      <th></th>\n",
              "      <th>Mouse ID</th>\n",
              "      <th>Timepoint</th>\n",
              "      <th>Drug Regimen</th>\n",
              "      <th>Sex</th>\n",
              "      <th>Age_months</th>\n",
              "      <th>Weight (g)</th>\n",
              "      <th>Tumor Volume (mm3)</th>\n",
              "      <th>Metastatic Sites</th>\n",
              "    </tr>\n",
              "  </thead>\n",
              "  <tbody>\n",
              "    <tr>\n",
              "      <th>0</th>\n",
              "      <td>a275</td>\n",
              "      <td>45</td>\n",
              "      <td>Ceftamin</td>\n",
              "      <td>Female</td>\n",
              "      <td>20</td>\n",
              "      <td>28</td>\n",
              "      <td>62.999356</td>\n",
              "      <td>3</td>\n",
              "    </tr>\n",
              "    <tr>\n",
              "      <th>1</th>\n",
              "      <td>b447</td>\n",
              "      <td>0</td>\n",
              "      <td>Ceftamin</td>\n",
              "      <td>Male</td>\n",
              "      <td>2</td>\n",
              "      <td>30</td>\n",
              "      <td>45.000000</td>\n",
              "      <td>0</td>\n",
              "    </tr>\n",
              "    <tr>\n",
              "      <th>2</th>\n",
              "      <td>b487</td>\n",
              "      <td>25</td>\n",
              "      <td>Ceftamin</td>\n",
              "      <td>Female</td>\n",
              "      <td>6</td>\n",
              "      <td>28</td>\n",
              "      <td>56.057749</td>\n",
              "      <td>1</td>\n",
              "    </tr>\n",
              "    <tr>\n",
              "      <th>3</th>\n",
              "      <td>b759</td>\n",
              "      <td>30</td>\n",
              "      <td>Ceftamin</td>\n",
              "      <td>Female</td>\n",
              "      <td>12</td>\n",
              "      <td>25</td>\n",
              "      <td>55.742829</td>\n",
              "      <td>1</td>\n",
              "    </tr>\n",
              "    <tr>\n",
              "      <th>4</th>\n",
              "      <td>f436</td>\n",
              "      <td>15</td>\n",
              "      <td>Ceftamin</td>\n",
              "      <td>Female</td>\n",
              "      <td>3</td>\n",
              "      <td>25</td>\n",
              "      <td>48.722078</td>\n",
              "      <td>2</td>\n",
              "    </tr>\n",
              "  </tbody>\n",
              "</table>\n",
              "</div>"
            ],
            "text/plain": [
              "  Mouse ID  Timepoint Drug Regimen     Sex  Age_months  Weight (g)  \\\n",
              "0     a275         45     Ceftamin  Female          20          28   \n",
              "1     b447          0     Ceftamin    Male           2          30   \n",
              "2     b487         25     Ceftamin  Female           6          28   \n",
              "3     b759         30     Ceftamin  Female          12          25   \n",
              "4     f436         15     Ceftamin  Female           3          25   \n",
              "\n",
              "   Tumor Volume (mm3)  Metastatic Sites  \n",
              "0           62.999356                 3  \n",
              "1           45.000000                 0  \n",
              "2           56.057749                 1  \n",
              "3           55.742829                 1  \n",
              "4           48.722078                 2  "
            ]
          },
          "execution_count": 16,
          "metadata": {},
          "output_type": "execute_result"
        }
      ],
      "source": [
        "# Put treatments into a list for for loop (and later for plot labels)\n",
        "last_timepoint = drugs.groupby([\"Drug Regimen\", \"Mouse ID\"]).agg(tumor_size=(\"Tumor Volume (mm3)\", lambda x: x.iloc[-1]))\n",
        "#Reshape dataframe\n",
        "last_timepoint = last_timepoint.stack(level=0).unstack(level=0)\n",
        "for drug in drug_list:\n",
        "    print(drug)\n",
        "treatment = 0\n",
        "for drug in drug_list:\n",
        "    quartiles = last_timepoint[drug].quantile([.25,.5,.75]).round(2)\n",
        "    lowerq = quartiles[0.25].round(2)\n",
        "    upperq = quartiles[0.75].round(2)\n",
        "    iqr = round(upperq-lowerq,2)\n",
        "    lower_bound = round(lowerq - (1.5*iqr),2)\n",
        "    upper_bound = round(upperq + (1.5*iqr),2)\n",
        "\n",
        "\n",
        "    if treatment == 0:\n",
        "        print(f\"------------------------------------------------------------\")\n",
        "    print(f\"The lower quartile of {drug} treatments is: {lowerq}\")\n",
        "    print(f\"The upper quartile of {drug} treatments is: {upperq}\")\n",
        "    print(f\"The interquartile range of {drug} treatments is: {iqr}\")\n",
        "    print(f\"Values below {lower_bound} could be {drug} outliers.\")\n",
        "    print(f\"Values above {upper_bound} could be {drug} outliers.\")\n",
        "    print(f\"------------------------------------------------------------\")\n",
        "    treatment+=1\n",
        "# Create empty list to fill with tumor vol data (for plotting)\n",
        "\n",
        "\n",
        "# Calculate the IQR and quantitatively determine if there are any potential outliers.\n",
        "\n",
        "\n",
        "    # Locate the rows which contain mice on each drug and get the tumor volumes\n",
        "\n",
        "\n",
        "    # add subset\n",
        "\n",
        "\n",
        "    # Determine outliers using upper and lower bounds\n",
        "Ceftamin_last = Ceftamin_df.groupby('Mouse ID').max()['Timepoint']\n",
        "Ceftamin_vol = pd.DataFrame(Ceftamin_last)\n",
        "Ceftamin_merge = pd.merge(Ceftamin_vol, clean_df, on=(\"Mouse ID\",\"Timepoint\"),how=\"left\")\n",
        "Ceftamin_merge.head()"
      ]
    },
    {
      "cell_type": "code",
      "execution_count": 17,
      "metadata": {
        "colab": {
          "base_uri": "https://localhost:8080/",
          "height": 474
        },
        "id": "XtN3BkFkG9NA",
        "outputId": "510a4301-6cf8-481c-c87f-74ca7d40e437"
      },
      "outputs": [
        {
          "data": {
            "image/png": "[encoded data removed]",
            "text/plain": [
              "<Figure size 640x480 with 1 Axes>"
            ]
          },
          "metadata": {},
          "output_type": "display_data"
        }
      ],
      "source": [
        "# Generate a box plot that shows the distrubution of the tumor volume for each treatment group.\n",
        "boxplot_list = []\n",
        "for drug in drug_list:\n",
        "    boxplot_list.append(list(last_timepoint[drug].dropna()))\n",
        "\n",
        "# Generate a box plot of the final tumor volume of each mouse across four regimens of interest\n",
        "fig = plt.figure()\n",
        "plt.xlabel(\"Regimen\")\n",
        "plt.xticks([1,2,3,4], drug_list, rotation=45)\n",
        "plt.ylabel(\"Tumor Volume\")\n",
        "plt.title(\"Tumor Volume by Drug Regimen\")\n",
        "plt.boxplot(boxplot_list)\n",
        "plt.show()"
      ]
    },
    {
      "cell_type": "markdown",
      "metadata": {
        "id": "qENd7C-9G9NA"
      },
      "source": [
        "## Line and Scatter Plots"
      ]
    },
    {
      "cell_type": "code",
      "execution_count": 18,
      "metadata": {
        "colab": {
          "base_uri": "https://localhost:8080/",
          "height": 489
        },
        "id": "Blq-h9DZG9NA",
        "outputId": "07f2e2f6-30cb-416e-a947-d3688a85f6ad"
      },
      "outputs": [
        {
          "data": {
            "text/plain": [
              "Text(0, 0.5, 'Tumor Volume (mm3)')"
            ]
          },
          "execution_count": 18,
          "metadata": {},
          "output_type": "execute_result"
        },
        {
          "data": {
            "image/png": "[encoded data removed]",
            "text/plain": [
              "<Figure size 640x480 with 1 Axes>"
            ]
          },
          "metadata": {},
          "output_type": "display_data"
        }
      ],
      "source": [
        "# Generate a line plot of tumor volume vs. time point for a single mouse treated with Capomulin\n",
        "forline_df = Capomulin_df.loc[Capomulin_df[\"Mouse ID\"] == \"l509\",:]\n",
        "forline_df.head()\n",
        "x_axis = forline_df[\"Timepoint\"]\n",
        "tumsiz = forline_df[\"Tumor Volume (mm3)\"]\n",
        "\n",
        "fig1, ax1 = plt.subplots()\n",
        "plt.title('Capomulin treatmeant of mouse l509')\n",
        "plt.plot(x_axis, tumsiz,linewidth=2, markersize=15,marker=\"o\",color=\"blue\", label=\"Fahreneit\")\n",
        "plt.xlabel('Timepoint (Days)')\n",
        "plt.ylabel('Tumor Volume (mm3)')"
      ]
    },
    {
      "cell_type": "code",
      "execution_count": 19,
      "metadata": {
        "colab": {
          "base_uri": "https://localhost:8080/",
          "height": 472
        },
        "id": "wcGABqZEG9NB",
        "outputId": "e162eb82-bc1f-476c-de3f-b2bba4e2e7a4"
      },
      "outputs": [
        {
          "data": {
            "image/png": "[encoded data removed]",
            "text/plain": [
              "<Figure size 640x480 with 1 Axes>"
            ]
          },
          "metadata": {},
          "output_type": "display_data"
        }
      ],
      "source": [
        "# Generate a scatter plot of mouse weight vs. the average observed tumor volume for the entire Capomulin regimen\n",
        "capomulin_data = clean_df[clean_df[\"Drug Regimen\"] == \"Capomulin\"]\n",
        "\n",
        "# Tumor volume per mouse\n",
        "avg_tumor_volume = capomulin_data.groupby(\"Mouse ID\")[\"Tumor Volume (mm3)\"].mean()\n",
        "\n",
        "# Weight per mouse\n",
        "mouse_weight = capomulin_data.groupby(\"Mouse ID\")[\"Weight (g)\"].mean()\n",
        "\n",
        "# Make scatterplot\n",
        "x_values = mouse_weight\n",
        "y_values = avg_tumor_volume\n",
        "plt.scatter(x_values,y_values,color=\"blue\")\n",
        "\n",
        "# Labels\n",
        "plt.title(\"Mouse Weight vs. Average Tumor Volume: Capomulin Treatment Group\")\n",
        "plt.xlabel(\"Weight (g)\")\n",
        "plt.ylabel(\"Average Tumor Volume (mm3)\")\n",
        "\n",
        "plt.show()"
      ]
    },
    {
      "cell_type": "markdown",
      "metadata": {
        "id": "j_1mfzX2G9NB"
      },
      "source": [
        "## Correlation and Regression"
      ]
    },
    {
      "cell_type": "code",
      "execution_count": 20,
      "metadata": {
        "colab": {
          "base_uri": "https://localhost:8080/"
        },
        "id": "kIdqAZ5QG9NB",
        "outputId": "cdafdc6c-bac1-4936-8fae-002794c957e0"
      },
      "outputs": [
        {
          "name": "stdout",
          "output_type": "stream",
          "text": [
            "The correlation between mouse weight and the average tumor volume is 0.84\n"
          ]
        }
      ],
      "source": [
        "# Calculate the correlation coefficient and a linear regression model\n",
        "# for mouse weight and average observed tumor volume for the entire Capomulin regimen\n",
        "correlation = st.pearsonr(avg_tumor_volume,mouse_weight)\n",
        "print(f\"The correlation between mouse weight and the average tumor volume is {round(correlation[0],2)}\")"
      ]
    },
    {
      "cell_type": "code",
      "execution_count": 21,
      "metadata": {
        "colab": {
          "base_uri": "https://localhost:8080/",
          "height": 489
        },
        "id": "2tjvC_j0G9NB",
        "outputId": "caac0dc8-c41c-4d85-d462-1c1f8b0a9831"
      },
      "outputs": [
        {
          "name": "stdout",
          "output_type": "stream",
          "text": [
            "The r-squared is: 0.709\n"
          ]
        },
        {
          "data": {
            "image/png": "[encoded data removed]",
            "text/plain": [
              "<Figure size 640x480 with 1 Axes>"
            ]
          },
          "metadata": {},
          "output_type": "display_data"
        }
      ],
      "source": [
        "(slope, intercept,rvalue, pvalue, stderr)= linregress(mouse_weight,avg_tumor_volume)\n",
        "regress_values=mouse_weight* slope + intercept\n",
        "line_eq= f\"y = {round(slope, 2)} x + {round(intercept, 2)}\"\n",
        "\n",
        "plt.scatter(mouse_weight,avg_tumor_volume,color='b')\n",
        "plt.plot(mouse_weight, regress_values, color='red')\n",
        "plt.annotate(line_eq,(20,36), fontsize=14)\n",
        "plt.xlabel(\"Weight (g)\")\n",
        "plt.ylabel(\"Tumor Volume (mm3)\")\n",
        "plt.title(\"Weight vs Tumor Volume for Capomulin\")\n",
        "print(f\"The r-squared is: {round(rvalue**2,3)}\")\n",
        "plt.show()"
      ]
    }
  ],
  "metadata": {
    "anaconda-cloud": {},
    "colab": {
      "provenance": []
    },
    "kernelspec": {
      "display_name": "PythonData",
      "language": "python",
      "name": "python3"
    },
    "language_info": {
      "codemirror_mode": {
        "name": "ipython",
        "version": 3
      },
      "file_extension": ".py",
      "mimetype": "text/x-python",
      "name": "python",
      "nbconvert_exporter": "python",
      "pygments_lexer": "ipython3",
      "version": "3.10.13"
    }
  },
  "nbformat": 4,
  "nbformat_minor": 0
}
